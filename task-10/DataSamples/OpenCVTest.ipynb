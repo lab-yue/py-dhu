{
 "cells": [
  {
   "cell_type": "code",
   "execution_count": 13,
   "metadata": {},
   "outputs": [
    {
     "output_type": "execute_result",
     "data": {
      "text/plain": [
       "True"
      ]
     },
     "metadata": {},
     "execution_count": 13
    }
   ],
   "source": [
    "# 画像をグレースケール化して保存する\n",
    "import sys\n",
    "import cv2\n",
    "\n",
    "inFile = \"./LennaSamples/Images/lenna.png\"\n",
    "outFile = \"./LennaSamples/Images/lenna_gray.png\"\n",
    "\n",
    "# 画像ファイルを読み込む\n",
    "imgBGR = cv2.imread(inFile)\n",
    "\n",
    "# グレースケールに変換する\n",
    "imgGray = cv2.cvtColor(imgBGR, cv2.COLOR_BGR2GRAY)\n",
    "\n",
    "# 変換した画像を出力する\n",
    "cv2.imwrite(outFile, imgGray)"
   ]
  },
  {
   "cell_type": "code",
   "execution_count": 14,
   "metadata": {},
   "outputs": [
    {
     "output_type": "execute_result",
     "data": {
      "text/plain": [
       "True"
      ]
     },
     "metadata": {},
     "execution_count": 14
    }
   ],
   "source": [
    "# 画像データに対して顔認証を行う\n",
    "import sys\n",
    "import cv2\n",
    "\n",
    "inFile = \"./LennaSamples/Images/lenna.png\"\n",
    "outFile = \"./LennaSamples/Images/lenna_face.png\"\n",
    "\n",
    "# 画像ファイルを読み込む\n",
    "imgBGR = cv2.imread(inFile)\n",
    "\n",
    "# グレースケールに変換する\n",
    "imgGray = cv2.cvtColor(imgBGR, cv2.COLOR_BGR2GRAY)\n",
    "\n",
    "# カスケードファイルの読み込み\n",
    "faceCascade = cv2.CascadeClassifier(\"./LennaSamples/Haarcascades/haarcascade_frontalface_default.xml\")\n",
    "\n",
    "# 顔認証を行う\n",
    "#image – ここに格納されている画像中から物体が検出されます\n",
    "#objects – 矩形を要素とするベクトル．それぞれの矩形は，検出した物体を含みます\n",
    "#scaleFactor – 各画像スケールにおける縮小量を表します\n",
    "#minNeighbors – 物体候補となる矩形は，最低でもこの数だけの近傍矩形を含む必要があります\n",
    "#flags – このパラメータは，新しいカスケードでは利用されません．古いカスケードに対しては，cvHaarDetectObjects 関数の場合と同じ意味を持ちます\n",
    "#minSize – 物体が取り得る最小サイズ．これよりも小さい物体は無視されます\n",
    "faces = faceCascade.detectMultiScale(imgGray, scaleFactor=1.1, minNeighbors=2, minSize=(180, 180))\n",
    "\n",
    "for (x, y, w, h) in faces:\n",
    "    # 検出した顔を四角で囲う\n",
    "    imgBGR = cv2.rectangle(\n",
    "        imgBGR, # 出力先\n",
    "        (x, y), # 描画座標の左下\n",
    "        (x + w, y + h), # 描画座標の右上\n",
    "        (0, 255, 0) , # 塗りつぶす色\n",
    "        3 # 塗りつぶす太さ\n",
    "    )\n",
    "\n",
    "# 変換した画像を出力する\n",
    "cv2.imwrite(outFile, imgBGR)"
   ]
  }
 ],
 "metadata": {
  "kernelspec": {
   "display_name": "Python 3",
   "language": "python",
   "name": "python3"
  },
  "language_info": {
   "codemirror_mode": {
    "name": "ipython",
    "version": 3
   },
   "file_extension": ".py",
   "mimetype": "text/x-python",
   "name": "python",
   "nbconvert_exporter": "python",
   "pygments_lexer": "ipython3",
   "version": "3.9.1-final"
  }
 },
 "nbformat": 4,
 "nbformat_minor": 2
}